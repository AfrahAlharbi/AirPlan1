{
  "nbformat": 4,
  "nbformat_minor": 0,
  "metadata": {
    "colab": {
      "name": "Assignment 1.ipynb",
      "provenance": [],
      "collapsed_sections": [],
      "authorship_tag": "ABX9TyOrIIRMoKSk+NXXRjEAV24b",
      "include_colab_link": true
    },
    "kernelspec": {
      "name": "python3",
      "display_name": "Python 3"
    }
  },
  "cells": [
    {
      "cell_type": "markdown",
      "metadata": {
        "id": "view-in-github",
        "colab_type": "text"
      },
      "source": [
        "<a href=\"https://colab.research.google.com/github/AfrahAlharbi/AirPlan1/blob/main/Assignment_1.ipynb\" target=\"_parent\"><img src=\"https://colab.research.google.com/assets/colab-badge.svg\" alt=\"Open In Colab\"/></a>"
      ]
    },
    {
      "cell_type": "code",
      "metadata": {
        "id": "mRIeMkOURGFK"
      },
      "source": [
        "# Afrah Assignment"
      ],
      "execution_count": null,
      "outputs": []
    },
    {
      "cell_type": "code",
      "metadata": {
        "colab": {
          "base_uri": "https://localhost:8080/"
        },
        "id": "ZiPKt3WXReVG",
        "outputId": "eaa14e18-86de-40d0-a41f-d4e29e97bcc6"
      },
      "source": [
        "#Assignment:*String (Hello World)*\r\n",
        "# 1. print \"Hello World\"\r\n",
        "print( \"Hello World\" )"
      ],
      "execution_count": null,
      "outputs": [
        {
          "output_type": "stream",
          "text": [
            "Hello World\n"
          ],
          "name": "stdout"
        }
      ]
    },
    {
      "cell_type": "code",
      "metadata": {
        "id": "o9IhnqkAXFlT",
        "colab": {
          "base_uri": "https://localhost:8080/"
        },
        "outputId": "0b24175a-1fc3-401d-908a-53a525b5be6f"
      },
      "source": [
        "# 2. print \"Hello Noelle!\" with the name in a variable\r\n",
        "name = \"Afrah\"\r\n",
        "print( \"Hello\" , name )\t# with a comma\r\n",
        "print(  \"Hello\" + \" \"+ name )\t# with a "
      ],
      "execution_count": null,
      "outputs": [
        {
          "output_type": "stream",
          "text": [
            "Hello Afrah\n",
            "Hello Afrah\n"
          ],
          "name": "stdout"
        }
      ]
    },
    {
      "cell_type": "code",
      "metadata": {
        "id": "tddF_flrXF9W",
        "colab": {
          "base_uri": "https://localhost:8080/"
        },
        "outputId": "d4b90c3b-0d58-4024-fa18-0e840929de78"
      },
      "source": [
        "# 3. print \"Hello 42!\" with the number in a variable\r\n",
        "name = 42\r\n",
        "print(  \"Hello \",name ,\"!\")\t# with a comma\r\n",
        "#print(  \"Hello\" + name + \"!\")\t# with a +\t-- this one should give us an error!\r\n",
        "print(  \"Hello \" + str(name) + \" !\") # convert name int string"
      ],
      "execution_count": null,
      "outputs": [
        {
          "output_type": "stream",
          "text": [
            "Hello  42 !\n",
            "Hello 42 !\n"
          ],
          "name": "stdout"
        }
      ]
    },
    {
      "cell_type": "code",
      "metadata": {
        "id": "NyfBtBDAXGI_",
        "colab": {
          "base_uri": "https://localhost:8080/"
        },
        "outputId": "05940d64-b2f8-4f3b-a113-8b126fa5c1d1"
      },
      "source": [
        "# 4. print \"I love to eat sushi and pizza.\" with the foods in variables\r\n",
        "fave_food1 = \"sushi\"\r\n",
        "fave_food2 = \"pizza\"\r\n",
        "print( \"I love to eat {} and {}.\".format(fave_food1,fave_food2)) # with .format()\r\n",
        "print( f\"I love to eat {fave_food1} and {fave_food2}.\")  # with an f string"
      ],
      "execution_count": null,
      "outputs": [
        {
          "output_type": "stream",
          "text": [
            "I love to eat sushi and pizza.\n",
            "I love to eat sushi and pizza.\n"
          ],
          "name": "stdout"
        }
      ]
    },
    {
      "cell_type": "code",
      "metadata": {
        "id": "RJyJqEbUXGMA",
        "colab": {
          "base_uri": "https://localhost:8080/",
          "height": 35
        },
        "outputId": "9669e8cb-f605-47d5-8b8b-28f53d47e77f"
      },
      "source": [
        "full_name=\"Afrah Hamoud Alharbi\"\r\n",
        "full_name.upper()"
      ],
      "execution_count": null,
      "outputs": [
        {
          "output_type": "execute_result",
          "data": {
            "application/vnd.google.colaboratory.intrinsic+json": {
              "type": "string"
            },
            "text/plain": [
              "'AFRAH HAMOUD ALHARBI'"
            ]
          },
          "metadata": {
            "tags": []
          },
          "execution_count": 10
        }
      ]
    },
    {
      "cell_type": "code",
      "metadata": {
        "id": "5D72atNgXGPD",
        "colab": {
          "base_uri": "https://localhost:8080/",
          "height": 35
        },
        "outputId": "41597367-d14e-418f-9c71-e801588bd80a"
      },
      "source": [
        "full_name.lower()"
      ],
      "execution_count": null,
      "outputs": [
        {
          "output_type": "execute_result",
          "data": {
            "application/vnd.google.colaboratory.intrinsic+json": {
              "type": "string"
            },
            "text/plain": [
              "'afrah hamoud alharbi'"
            ]
          },
          "metadata": {
            "tags": []
          },
          "execution_count": 11
        }
      ]
    },
    {
      "cell_type": "code",
      "metadata": {
        "id": "El_tUQ9PXGSE",
        "colab": {
          "base_uri": "https://localhost:8080/",
          "height": 35
        },
        "outputId": "30a93847-42a4-47a4-b3b8-40858aa0e65b"
      },
      "source": [
        "full_name.title()"
      ],
      "execution_count": null,
      "outputs": [
        {
          "output_type": "execute_result",
          "data": {
            "application/vnd.google.colaboratory.intrinsic+json": {
              "type": "string"
            },
            "text/plain": [
              "'Afrah Hamoud Alharbi'"
            ]
          },
          "metadata": {
            "tags": []
          },
          "execution_count": 12
        }
      ]
    },
    {
      "cell_type": "code",
      "metadata": {
        "id": "kY3Xq0VmXGVn",
        "colab": {
          "base_uri": "https://localhost:8080/"
        },
        "outputId": "ef6cfa8e-23b8-489f-fe1b-c3f34850bee4"
      },
      "source": [
        "full_name.split()"
      ],
      "execution_count": null,
      "outputs": [
        {
          "output_type": "execute_result",
          "data": {
            "text/plain": [
              "['Afrah', 'Hamoud', 'Alharbi']"
            ]
          },
          "metadata": {
            "tags": []
          },
          "execution_count": 13
        }
      ]
    },
    {
      "cell_type": "code",
      "metadata": {
        "id": "trbdz93_XGYn",
        "colab": {
          "base_uri": "https://localhost:8080/",
          "height": 35
        },
        "outputId": "ce1ab6cc-a90c-4463-9c86-83ce3361f592"
      },
      "source": [
        "\"_\".join(full_name.split())"
      ],
      "execution_count": null,
      "outputs": [
        {
          "output_type": "execute_result",
          "data": {
            "application/vnd.google.colaboratory.intrinsic+json": {
              "type": "string"
            },
            "text/plain": [
              "'Afrah_Hamoud_Alharbi'"
            ]
          },
          "metadata": {
            "tags": []
          },
          "execution_count": 14
        }
      ]
    },
    {
      "cell_type": "code",
      "metadata": {
        "id": "QXjdDK9XXGcd",
        "colab": {
          "base_uri": "https://localhost:8080/"
        },
        "outputId": "0dfa7c41-1130-4d65-92e1-c22efc0c41e7"
      },
      "source": [
        "full_name.endswith(\"i\")"
      ],
      "execution_count": null,
      "outputs": [
        {
          "output_type": "execute_result",
          "data": {
            "text/plain": [
              "True"
            ]
          },
          "metadata": {
            "tags": []
          },
          "execution_count": 15
        }
      ]
    },
    {
      "cell_type": "code",
      "metadata": {
        "id": "tO6a1UMyXGfn",
        "colab": {
          "base_uri": "https://localhost:8080/"
        },
        "outputId": "6bc24230-8513-4b92-9535-3802b3ac69c7"
      },
      "source": [
        "\r\n",
        "\"Welcome to python!!\".count(\" \")"
      ],
      "execution_count": null,
      "outputs": [
        {
          "output_type": "execute_result",
          "data": {
            "text/plain": [
              "2"
            ]
          },
          "metadata": {
            "tags": []
          },
          "execution_count": 16
        }
      ]
    },
    {
      "cell_type": "code",
      "metadata": {
        "id": "q15Jji7JXGjg",
        "colab": {
          "base_uri": "https://localhost:8080/"
        },
        "outputId": "e8f07328-3b95-47ca-ccb6-5388667632ad"
      },
      "source": [
        "full_name.find(\"Alharbi\")"
      ],
      "execution_count": null,
      "outputs": [
        {
          "output_type": "execute_result",
          "data": {
            "text/plain": [
              "13"
            ]
          },
          "metadata": {
            "tags": []
          },
          "execution_count": 17
        }
      ]
    },
    {
      "cell_type": "code",
      "metadata": {
        "id": "bPanu7lxXGmg",
        "colab": {
          "base_uri": "https://localhost:8080/"
        },
        "outputId": "76542e9b-3df5-4ed5-d5ad-9acfdb4af1e9"
      },
      "source": [
        "full_name.isdigit()"
      ],
      "execution_count": null,
      "outputs": [
        {
          "output_type": "execute_result",
          "data": {
            "text/plain": [
              "False"
            ]
          },
          "metadata": {
            "tags": []
          },
          "execution_count": 18
        }
      ]
    },
    {
      "cell_type": "code",
      "metadata": {
        "id": "1mgVVczLXGph",
        "colab": {
          "base_uri": "https://localhost:8080/"
        },
        "outputId": "653536ed-9dd5-4463-d387-9c9f2aa56ac0"
      },
      "source": [
        "full_name.upper().islower()"
      ],
      "execution_count": null,
      "outputs": [
        {
          "output_type": "execute_result",
          "data": {
            "text/plain": [
              "False"
            ]
          },
          "metadata": {
            "tags": []
          },
          "execution_count": 19
        }
      ]
    },
    {
      "cell_type": "code",
      "metadata": {
        "colab": {
          "base_uri": "https://localhost:8080/"
        },
        "id": "cB3eFZ74bGuE",
        "outputId": "e4590d7c-c529-4472-a4b7-12d464d6ce97"
      },
      "source": [
        "full_name.lower().islower()"
      ],
      "execution_count": null,
      "outputs": [
        {
          "output_type": "execute_result",
          "data": {
            "text/plain": [
              "True"
            ]
          },
          "metadata": {
            "tags": []
          },
          "execution_count": 21
        }
      ]
    },
    {
      "cell_type": "code",
      "metadata": {
        "id": "YgZmbiNbbPom"
      },
      "source": [
        "#*Assignment:basic for loops*"
      ],
      "execution_count": null,
      "outputs": []
    },
    {
      "cell_type": "code",
      "metadata": {
        "colab": {
          "base_uri": "https://localhost:8080/"
        },
        "id": "k5s46EJsbR0W",
        "outputId": "106ee079-125b-4552-e87f-d2af5ccba618"
      },
      "source": [
        "#1.Basic - Print all integers from 0 to 150. Hint:use a for loop and range\r\n",
        "for i in range(0,151):\r\n",
        "    print(i)"
      ],
      "execution_count": null,
      "outputs": [
        {
          "output_type": "stream",
          "text": [
            "0\n",
            "1\n",
            "2\n",
            "3\n",
            "4\n",
            "5\n",
            "6\n",
            "7\n",
            "8\n",
            "9\n",
            "10\n",
            "11\n",
            "12\n",
            "13\n",
            "14\n",
            "15\n",
            "16\n",
            "17\n",
            "18\n",
            "19\n",
            "20\n",
            "21\n",
            "22\n",
            "23\n",
            "24\n",
            "25\n",
            "26\n",
            "27\n",
            "28\n",
            "29\n",
            "30\n",
            "31\n",
            "32\n",
            "33\n",
            "34\n",
            "35\n",
            "36\n",
            "37\n",
            "38\n",
            "39\n",
            "40\n",
            "41\n",
            "42\n",
            "43\n",
            "44\n",
            "45\n",
            "46\n",
            "47\n",
            "48\n",
            "49\n",
            "50\n",
            "51\n",
            "52\n",
            "53\n",
            "54\n",
            "55\n",
            "56\n",
            "57\n",
            "58\n",
            "59\n",
            "60\n",
            "61\n",
            "62\n",
            "63\n",
            "64\n",
            "65\n",
            "66\n",
            "67\n",
            "68\n",
            "69\n",
            "70\n",
            "71\n",
            "72\n",
            "73\n",
            "74\n",
            "75\n",
            "76\n",
            "77\n",
            "78\n",
            "79\n",
            "80\n",
            "81\n",
            "82\n",
            "83\n",
            "84\n",
            "85\n",
            "86\n",
            "87\n",
            "88\n",
            "89\n",
            "90\n",
            "91\n",
            "92\n",
            "93\n",
            "94\n",
            "95\n",
            "96\n",
            "97\n",
            "98\n",
            "99\n",
            "100\n",
            "101\n",
            "102\n",
            "103\n",
            "104\n",
            "105\n",
            "106\n",
            "107\n",
            "108\n",
            "109\n",
            "110\n",
            "111\n",
            "112\n",
            "113\n",
            "114\n",
            "115\n",
            "116\n",
            "117\n",
            "118\n",
            "119\n",
            "120\n",
            "121\n",
            "122\n",
            "123\n",
            "124\n",
            "125\n",
            "126\n",
            "127\n",
            "128\n",
            "129\n",
            "130\n",
            "131\n",
            "132\n",
            "133\n",
            "134\n",
            "135\n",
            "136\n",
            "137\n",
            "138\n",
            "139\n",
            "140\n",
            "141\n",
            "142\n",
            "143\n",
            "144\n",
            "145\n",
            "146\n",
            "147\n",
            "148\n",
            "149\n",
            "150\n"
          ],
          "name": "stdout"
        }
      ]
    },
    {
      "cell_type": "code",
      "metadata": {
        "colab": {
          "base_uri": "https://localhost:8080/"
        },
        "id": "A2Zk92FXcvC-",
        "outputId": "3c062aed-838d-467e-8e90-cb39c65c7fc5"
      },
      "source": [
        "#Multiples of Five - Print all the multiples of 5 from 5 to 1,000\r\n",
        "for i in range(5,1001):\r\n",
        "    print(i*5)"
      ],
      "execution_count": null,
      "outputs": [
        {
          "output_type": "stream",
          "text": [
            "25\n",
            "30\n",
            "35\n",
            "40\n",
            "45\n",
            "50\n",
            "55\n",
            "60\n",
            "65\n",
            "70\n",
            "75\n",
            "80\n",
            "85\n",
            "90\n",
            "95\n",
            "100\n",
            "105\n",
            "110\n",
            "115\n",
            "120\n",
            "125\n",
            "130\n",
            "135\n",
            "140\n",
            "145\n",
            "150\n",
            "155\n",
            "160\n",
            "165\n",
            "170\n",
            "175\n",
            "180\n",
            "185\n",
            "190\n",
            "195\n",
            "200\n",
            "205\n",
            "210\n",
            "215\n",
            "220\n",
            "225\n",
            "230\n",
            "235\n",
            "240\n",
            "245\n",
            "250\n",
            "255\n",
            "260\n",
            "265\n",
            "270\n",
            "275\n",
            "280\n",
            "285\n",
            "290\n",
            "295\n",
            "300\n",
            "305\n",
            "310\n",
            "315\n",
            "320\n",
            "325\n",
            "330\n",
            "335\n",
            "340\n",
            "345\n",
            "350\n",
            "355\n",
            "360\n",
            "365\n",
            "370\n",
            "375\n",
            "380\n",
            "385\n",
            "390\n",
            "395\n",
            "400\n",
            "405\n",
            "410\n",
            "415\n",
            "420\n",
            "425\n",
            "430\n",
            "435\n",
            "440\n",
            "445\n",
            "450\n",
            "455\n",
            "460\n",
            "465\n",
            "470\n",
            "475\n",
            "480\n",
            "485\n",
            "490\n",
            "495\n",
            "500\n",
            "505\n",
            "510\n",
            "515\n",
            "520\n",
            "525\n",
            "530\n",
            "535\n",
            "540\n",
            "545\n",
            "550\n",
            "555\n",
            "560\n",
            "565\n",
            "570\n",
            "575\n",
            "580\n",
            "585\n",
            "590\n",
            "595\n",
            "600\n",
            "605\n",
            "610\n",
            "615\n",
            "620\n",
            "625\n",
            "630\n",
            "635\n",
            "640\n",
            "645\n",
            "650\n",
            "655\n",
            "660\n",
            "665\n",
            "670\n",
            "675\n",
            "680\n",
            "685\n",
            "690\n",
            "695\n",
            "700\n",
            "705\n",
            "710\n",
            "715\n",
            "720\n",
            "725\n",
            "730\n",
            "735\n",
            "740\n",
            "745\n",
            "750\n",
            "755\n",
            "760\n",
            "765\n",
            "770\n",
            "775\n",
            "780\n",
            "785\n",
            "790\n",
            "795\n",
            "800\n",
            "805\n",
            "810\n",
            "815\n",
            "820\n",
            "825\n",
            "830\n",
            "835\n",
            "840\n",
            "845\n",
            "850\n",
            "855\n",
            "860\n",
            "865\n",
            "870\n",
            "875\n",
            "880\n",
            "885\n",
            "890\n",
            "895\n",
            "900\n",
            "905\n",
            "910\n",
            "915\n",
            "920\n",
            "925\n",
            "930\n",
            "935\n",
            "940\n",
            "945\n",
            "950\n",
            "955\n",
            "960\n",
            "965\n",
            "970\n",
            "975\n",
            "980\n",
            "985\n",
            "990\n",
            "995\n",
            "1000\n",
            "1005\n",
            "1010\n",
            "1015\n",
            "1020\n",
            "1025\n",
            "1030\n",
            "1035\n",
            "1040\n",
            "1045\n",
            "1050\n",
            "1055\n",
            "1060\n",
            "1065\n",
            "1070\n",
            "1075\n",
            "1080\n",
            "1085\n",
            "1090\n",
            "1095\n",
            "1100\n",
            "1105\n",
            "1110\n",
            "1115\n",
            "1120\n",
            "1125\n",
            "1130\n",
            "1135\n",
            "1140\n",
            "1145\n",
            "1150\n",
            "1155\n",
            "1160\n",
            "1165\n",
            "1170\n",
            "1175\n",
            "1180\n",
            "1185\n",
            "1190\n",
            "1195\n",
            "1200\n",
            "1205\n",
            "1210\n",
            "1215\n",
            "1220\n",
            "1225\n",
            "1230\n",
            "1235\n",
            "1240\n",
            "1245\n",
            "1250\n",
            "1255\n",
            "1260\n",
            "1265\n",
            "1270\n",
            "1275\n",
            "1280\n",
            "1285\n",
            "1290\n",
            "1295\n",
            "1300\n",
            "1305\n",
            "1310\n",
            "1315\n",
            "1320\n",
            "1325\n",
            "1330\n",
            "1335\n",
            "1340\n",
            "1345\n",
            "1350\n",
            "1355\n",
            "1360\n",
            "1365\n",
            "1370\n",
            "1375\n",
            "1380\n",
            "1385\n",
            "1390\n",
            "1395\n",
            "1400\n",
            "1405\n",
            "1410\n",
            "1415\n",
            "1420\n",
            "1425\n",
            "1430\n",
            "1435\n",
            "1440\n",
            "1445\n",
            "1450\n",
            "1455\n",
            "1460\n",
            "1465\n",
            "1470\n",
            "1475\n",
            "1480\n",
            "1485\n",
            "1490\n",
            "1495\n",
            "1500\n",
            "1505\n",
            "1510\n",
            "1515\n",
            "1520\n",
            "1525\n",
            "1530\n",
            "1535\n",
            "1540\n",
            "1545\n",
            "1550\n",
            "1555\n",
            "1560\n",
            "1565\n",
            "1570\n",
            "1575\n",
            "1580\n",
            "1585\n",
            "1590\n",
            "1595\n",
            "1600\n",
            "1605\n",
            "1610\n",
            "1615\n",
            "1620\n",
            "1625\n",
            "1630\n",
            "1635\n",
            "1640\n",
            "1645\n",
            "1650\n",
            "1655\n",
            "1660\n",
            "1665\n",
            "1670\n",
            "1675\n",
            "1680\n",
            "1685\n",
            "1690\n",
            "1695\n",
            "1700\n",
            "1705\n",
            "1710\n",
            "1715\n",
            "1720\n",
            "1725\n",
            "1730\n",
            "1735\n",
            "1740\n",
            "1745\n",
            "1750\n",
            "1755\n",
            "1760\n",
            "1765\n",
            "1770\n",
            "1775\n",
            "1780\n",
            "1785\n",
            "1790\n",
            "1795\n",
            "1800\n",
            "1805\n",
            "1810\n",
            "1815\n",
            "1820\n",
            "1825\n",
            "1830\n",
            "1835\n",
            "1840\n",
            "1845\n",
            "1850\n",
            "1855\n",
            "1860\n",
            "1865\n",
            "1870\n",
            "1875\n",
            "1880\n",
            "1885\n",
            "1890\n",
            "1895\n",
            "1900\n",
            "1905\n",
            "1910\n",
            "1915\n",
            "1920\n",
            "1925\n",
            "1930\n",
            "1935\n",
            "1940\n",
            "1945\n",
            "1950\n",
            "1955\n",
            "1960\n",
            "1965\n",
            "1970\n",
            "1975\n",
            "1980\n",
            "1985\n",
            "1990\n",
            "1995\n",
            "2000\n",
            "2005\n",
            "2010\n",
            "2015\n",
            "2020\n",
            "2025\n",
            "2030\n",
            "2035\n",
            "2040\n",
            "2045\n",
            "2050\n",
            "2055\n",
            "2060\n",
            "2065\n",
            "2070\n",
            "2075\n",
            "2080\n",
            "2085\n",
            "2090\n",
            "2095\n",
            "2100\n",
            "2105\n",
            "2110\n",
            "2115\n",
            "2120\n",
            "2125\n",
            "2130\n",
            "2135\n",
            "2140\n",
            "2145\n",
            "2150\n",
            "2155\n",
            "2160\n",
            "2165\n",
            "2170\n",
            "2175\n",
            "2180\n",
            "2185\n",
            "2190\n",
            "2195\n",
            "2200\n",
            "2205\n",
            "2210\n",
            "2215\n",
            "2220\n",
            "2225\n",
            "2230\n",
            "2235\n",
            "2240\n",
            "2245\n",
            "2250\n",
            "2255\n",
            "2260\n",
            "2265\n",
            "2270\n",
            "2275\n",
            "2280\n",
            "2285\n",
            "2290\n",
            "2295\n",
            "2300\n",
            "2305\n",
            "2310\n",
            "2315\n",
            "2320\n",
            "2325\n",
            "2330\n",
            "2335\n",
            "2340\n",
            "2345\n",
            "2350\n",
            "2355\n",
            "2360\n",
            "2365\n",
            "2370\n",
            "2375\n",
            "2380\n",
            "2385\n",
            "2390\n",
            "2395\n",
            "2400\n",
            "2405\n",
            "2410\n",
            "2415\n",
            "2420\n",
            "2425\n",
            "2430\n",
            "2435\n",
            "2440\n",
            "2445\n",
            "2450\n",
            "2455\n",
            "2460\n",
            "2465\n",
            "2470\n",
            "2475\n",
            "2480\n",
            "2485\n",
            "2490\n",
            "2495\n",
            "2500\n",
            "2505\n",
            "2510\n",
            "2515\n",
            "2520\n",
            "2525\n",
            "2530\n",
            "2535\n",
            "2540\n",
            "2545\n",
            "2550\n",
            "2555\n",
            "2560\n",
            "2565\n",
            "2570\n",
            "2575\n",
            "2580\n",
            "2585\n",
            "2590\n",
            "2595\n",
            "2600\n",
            "2605\n",
            "2610\n",
            "2615\n",
            "2620\n",
            "2625\n",
            "2630\n",
            "2635\n",
            "2640\n",
            "2645\n",
            "2650\n",
            "2655\n",
            "2660\n",
            "2665\n",
            "2670\n",
            "2675\n",
            "2680\n",
            "2685\n",
            "2690\n",
            "2695\n",
            "2700\n",
            "2705\n",
            "2710\n",
            "2715\n",
            "2720\n",
            "2725\n",
            "2730\n",
            "2735\n",
            "2740\n",
            "2745\n",
            "2750\n",
            "2755\n",
            "2760\n",
            "2765\n",
            "2770\n",
            "2775\n",
            "2780\n",
            "2785\n",
            "2790\n",
            "2795\n",
            "2800\n",
            "2805\n",
            "2810\n",
            "2815\n",
            "2820\n",
            "2825\n",
            "2830\n",
            "2835\n",
            "2840\n",
            "2845\n",
            "2850\n",
            "2855\n",
            "2860\n",
            "2865\n",
            "2870\n",
            "2875\n",
            "2880\n",
            "2885\n",
            "2890\n",
            "2895\n",
            "2900\n",
            "2905\n",
            "2910\n",
            "2915\n",
            "2920\n",
            "2925\n",
            "2930\n",
            "2935\n",
            "2940\n",
            "2945\n",
            "2950\n",
            "2955\n",
            "2960\n",
            "2965\n",
            "2970\n",
            "2975\n",
            "2980\n",
            "2985\n",
            "2990\n",
            "2995\n",
            "3000\n",
            "3005\n",
            "3010\n",
            "3015\n",
            "3020\n",
            "3025\n",
            "3030\n",
            "3035\n",
            "3040\n",
            "3045\n",
            "3050\n",
            "3055\n",
            "3060\n",
            "3065\n",
            "3070\n",
            "3075\n",
            "3080\n",
            "3085\n",
            "3090\n",
            "3095\n",
            "3100\n",
            "3105\n",
            "3110\n",
            "3115\n",
            "3120\n",
            "3125\n",
            "3130\n",
            "3135\n",
            "3140\n",
            "3145\n",
            "3150\n",
            "3155\n",
            "3160\n",
            "3165\n",
            "3170\n",
            "3175\n",
            "3180\n",
            "3185\n",
            "3190\n",
            "3195\n",
            "3200\n",
            "3205\n",
            "3210\n",
            "3215\n",
            "3220\n",
            "3225\n",
            "3230\n",
            "3235\n",
            "3240\n",
            "3245\n",
            "3250\n",
            "3255\n",
            "3260\n",
            "3265\n",
            "3270\n",
            "3275\n",
            "3280\n",
            "3285\n",
            "3290\n",
            "3295\n",
            "3300\n",
            "3305\n",
            "3310\n",
            "3315\n",
            "3320\n",
            "3325\n",
            "3330\n",
            "3335\n",
            "3340\n",
            "3345\n",
            "3350\n",
            "3355\n",
            "3360\n",
            "3365\n",
            "3370\n",
            "3375\n",
            "3380\n",
            "3385\n",
            "3390\n",
            "3395\n",
            "3400\n",
            "3405\n",
            "3410\n",
            "3415\n",
            "3420\n",
            "3425\n",
            "3430\n",
            "3435\n",
            "3440\n",
            "3445\n",
            "3450\n",
            "3455\n",
            "3460\n",
            "3465\n",
            "3470\n",
            "3475\n",
            "3480\n",
            "3485\n",
            "3490\n",
            "3495\n",
            "3500\n",
            "3505\n",
            "3510\n",
            "3515\n",
            "3520\n",
            "3525\n",
            "3530\n",
            "3535\n",
            "3540\n",
            "3545\n",
            "3550\n",
            "3555\n",
            "3560\n",
            "3565\n",
            "3570\n",
            "3575\n",
            "3580\n",
            "3585\n",
            "3590\n",
            "3595\n",
            "3600\n",
            "3605\n",
            "3610\n",
            "3615\n",
            "3620\n",
            "3625\n",
            "3630\n",
            "3635\n",
            "3640\n",
            "3645\n",
            "3650\n",
            "3655\n",
            "3660\n",
            "3665\n",
            "3670\n",
            "3675\n",
            "3680\n",
            "3685\n",
            "3690\n",
            "3695\n",
            "3700\n",
            "3705\n",
            "3710\n",
            "3715\n",
            "3720\n",
            "3725\n",
            "3730\n",
            "3735\n",
            "3740\n",
            "3745\n",
            "3750\n",
            "3755\n",
            "3760\n",
            "3765\n",
            "3770\n",
            "3775\n",
            "3780\n",
            "3785\n",
            "3790\n",
            "3795\n",
            "3800\n",
            "3805\n",
            "3810\n",
            "3815\n",
            "3820\n",
            "3825\n",
            "3830\n",
            "3835\n",
            "3840\n",
            "3845\n",
            "3850\n",
            "3855\n",
            "3860\n",
            "3865\n",
            "3870\n",
            "3875\n",
            "3880\n",
            "3885\n",
            "3890\n",
            "3895\n",
            "3900\n",
            "3905\n",
            "3910\n",
            "3915\n",
            "3920\n",
            "3925\n",
            "3930\n",
            "3935\n",
            "3940\n",
            "3945\n",
            "3950\n",
            "3955\n",
            "3960\n",
            "3965\n",
            "3970\n",
            "3975\n",
            "3980\n",
            "3985\n",
            "3990\n",
            "3995\n",
            "4000\n",
            "4005\n",
            "4010\n",
            "4015\n",
            "4020\n",
            "4025\n",
            "4030\n",
            "4035\n",
            "4040\n",
            "4045\n",
            "4050\n",
            "4055\n",
            "4060\n",
            "4065\n",
            "4070\n",
            "4075\n",
            "4080\n",
            "4085\n",
            "4090\n",
            "4095\n",
            "4100\n",
            "4105\n",
            "4110\n",
            "4115\n",
            "4120\n",
            "4125\n",
            "4130\n",
            "4135\n",
            "4140\n",
            "4145\n",
            "4150\n",
            "4155\n",
            "4160\n",
            "4165\n",
            "4170\n",
            "4175\n",
            "4180\n",
            "4185\n",
            "4190\n",
            "4195\n",
            "4200\n",
            "4205\n",
            "4210\n",
            "4215\n",
            "4220\n",
            "4225\n",
            "4230\n",
            "4235\n",
            "4240\n",
            "4245\n",
            "4250\n",
            "4255\n",
            "4260\n",
            "4265\n",
            "4270\n",
            "4275\n",
            "4280\n",
            "4285\n",
            "4290\n",
            "4295\n",
            "4300\n",
            "4305\n",
            "4310\n",
            "4315\n",
            "4320\n",
            "4325\n",
            "4330\n",
            "4335\n",
            "4340\n",
            "4345\n",
            "4350\n",
            "4355\n",
            "4360\n",
            "4365\n",
            "4370\n",
            "4375\n",
            "4380\n",
            "4385\n",
            "4390\n",
            "4395\n",
            "4400\n",
            "4405\n",
            "4410\n",
            "4415\n",
            "4420\n",
            "4425\n",
            "4430\n",
            "4435\n",
            "4440\n",
            "4445\n",
            "4450\n",
            "4455\n",
            "4460\n",
            "4465\n",
            "4470\n",
            "4475\n",
            "4480\n",
            "4485\n",
            "4490\n",
            "4495\n",
            "4500\n",
            "4505\n",
            "4510\n",
            "4515\n",
            "4520\n",
            "4525\n",
            "4530\n",
            "4535\n",
            "4540\n",
            "4545\n",
            "4550\n",
            "4555\n",
            "4560\n",
            "4565\n",
            "4570\n",
            "4575\n",
            "4580\n",
            "4585\n",
            "4590\n",
            "4595\n",
            "4600\n",
            "4605\n",
            "4610\n",
            "4615\n",
            "4620\n",
            "4625\n",
            "4630\n",
            "4635\n",
            "4640\n",
            "4645\n",
            "4650\n",
            "4655\n",
            "4660\n",
            "4665\n",
            "4670\n",
            "4675\n",
            "4680\n",
            "4685\n",
            "4690\n",
            "4695\n",
            "4700\n",
            "4705\n",
            "4710\n",
            "4715\n",
            "4720\n",
            "4725\n",
            "4730\n",
            "4735\n",
            "4740\n",
            "4745\n",
            "4750\n",
            "4755\n",
            "4760\n",
            "4765\n",
            "4770\n",
            "4775\n",
            "4780\n",
            "4785\n",
            "4790\n",
            "4795\n",
            "4800\n",
            "4805\n",
            "4810\n",
            "4815\n",
            "4820\n",
            "4825\n",
            "4830\n",
            "4835\n",
            "4840\n",
            "4845\n",
            "4850\n",
            "4855\n",
            "4860\n",
            "4865\n",
            "4870\n",
            "4875\n",
            "4880\n",
            "4885\n",
            "4890\n",
            "4895\n",
            "4900\n",
            "4905\n",
            "4910\n",
            "4915\n",
            "4920\n",
            "4925\n",
            "4930\n",
            "4935\n",
            "4940\n",
            "4945\n",
            "4950\n",
            "4955\n",
            "4960\n",
            "4965\n",
            "4970\n",
            "4975\n",
            "4980\n",
            "4985\n",
            "4990\n",
            "4995\n",
            "5000\n"
          ],
          "name": "stdout"
        }
      ]
    },
    {
      "cell_type": "code",
      "metadata": {
        "colab": {
          "base_uri": "https://localhost:8080/"
        },
        "id": "vnGrUxiAcvFl",
        "outputId": "41eb3966-eb60-4665-f4bf-7185c24fb28c"
      },
      "source": [
        "#Counting, the Dojo Way - Print integers 1 to 100. If divisible by 5, print \"Coding\" instead. If divisible by 10, print \"Coding Dojo\".\r\n",
        "for i in range(1,100):\r\n",
        "    if(i%5==0):\r\n",
        "        print(\"Coding\")\r\n",
        "    if(i%10==0):\r\n",
        "        print(\"Coding Dojo\")"
      ],
      "execution_count": null,
      "outputs": [
        {
          "output_type": "stream",
          "text": [
            "Coding\n",
            "Coding\n",
            "Coding Dojo\n",
            "Coding\n",
            "Coding\n",
            "Coding Dojo\n",
            "Coding\n",
            "Coding\n",
            "Coding Dojo\n",
            "Coding\n",
            "Coding\n",
            "Coding Dojo\n",
            "Coding\n",
            "Coding\n",
            "Coding Dojo\n",
            "Coding\n",
            "Coding\n",
            "Coding Dojo\n",
            "Coding\n",
            "Coding\n",
            "Coding Dojo\n",
            "Coding\n",
            "Coding\n",
            "Coding Dojo\n",
            "Coding\n",
            "Coding\n",
            "Coding Dojo\n",
            "Coding\n"
          ],
          "name": "stdout"
        }
      ]
    },
    {
      "cell_type": "code",
      "metadata": {
        "colab": {
          "base_uri": "https://localhost:8080/"
        },
        "id": "hgN9ExaCcvHj",
        "outputId": "78cbfe35-6349-4aff-cdf7-89067e051356"
      },
      "source": [
        "#Countdown by Fours - Print positive numbers starting at 2018, counting down by fours.\r\n",
        "for i in range(2018,0,-4):\r\n",
        "        print(i)"
      ],
      "execution_count": null,
      "outputs": [
        {
          "output_type": "stream",
          "text": [
            "2018\n",
            "2014\n",
            "2010\n",
            "2006\n",
            "2002\n",
            "1998\n",
            "1994\n",
            "1990\n",
            "1986\n",
            "1982\n",
            "1978\n",
            "1974\n",
            "1970\n",
            "1966\n",
            "1962\n",
            "1958\n",
            "1954\n",
            "1950\n",
            "1946\n",
            "1942\n",
            "1938\n",
            "1934\n",
            "1930\n",
            "1926\n",
            "1922\n",
            "1918\n",
            "1914\n",
            "1910\n",
            "1906\n",
            "1902\n",
            "1898\n",
            "1894\n",
            "1890\n",
            "1886\n",
            "1882\n",
            "1878\n",
            "1874\n",
            "1870\n",
            "1866\n",
            "1862\n",
            "1858\n",
            "1854\n",
            "1850\n",
            "1846\n",
            "1842\n",
            "1838\n",
            "1834\n",
            "1830\n",
            "1826\n",
            "1822\n",
            "1818\n",
            "1814\n",
            "1810\n",
            "1806\n",
            "1802\n",
            "1798\n",
            "1794\n",
            "1790\n",
            "1786\n",
            "1782\n",
            "1778\n",
            "1774\n",
            "1770\n",
            "1766\n",
            "1762\n",
            "1758\n",
            "1754\n",
            "1750\n",
            "1746\n",
            "1742\n",
            "1738\n",
            "1734\n",
            "1730\n",
            "1726\n",
            "1722\n",
            "1718\n",
            "1714\n",
            "1710\n",
            "1706\n",
            "1702\n",
            "1698\n",
            "1694\n",
            "1690\n",
            "1686\n",
            "1682\n",
            "1678\n",
            "1674\n",
            "1670\n",
            "1666\n",
            "1662\n",
            "1658\n",
            "1654\n",
            "1650\n",
            "1646\n",
            "1642\n",
            "1638\n",
            "1634\n",
            "1630\n",
            "1626\n",
            "1622\n",
            "1618\n",
            "1614\n",
            "1610\n",
            "1606\n",
            "1602\n",
            "1598\n",
            "1594\n",
            "1590\n",
            "1586\n",
            "1582\n",
            "1578\n",
            "1574\n",
            "1570\n",
            "1566\n",
            "1562\n",
            "1558\n",
            "1554\n",
            "1550\n",
            "1546\n",
            "1542\n",
            "1538\n",
            "1534\n",
            "1530\n",
            "1526\n",
            "1522\n",
            "1518\n",
            "1514\n",
            "1510\n",
            "1506\n",
            "1502\n",
            "1498\n",
            "1494\n",
            "1490\n",
            "1486\n",
            "1482\n",
            "1478\n",
            "1474\n",
            "1470\n",
            "1466\n",
            "1462\n",
            "1458\n",
            "1454\n",
            "1450\n",
            "1446\n",
            "1442\n",
            "1438\n",
            "1434\n",
            "1430\n",
            "1426\n",
            "1422\n",
            "1418\n",
            "1414\n",
            "1410\n",
            "1406\n",
            "1402\n",
            "1398\n",
            "1394\n",
            "1390\n",
            "1386\n",
            "1382\n",
            "1378\n",
            "1374\n",
            "1370\n",
            "1366\n",
            "1362\n",
            "1358\n",
            "1354\n",
            "1350\n",
            "1346\n",
            "1342\n",
            "1338\n",
            "1334\n",
            "1330\n",
            "1326\n",
            "1322\n",
            "1318\n",
            "1314\n",
            "1310\n",
            "1306\n",
            "1302\n",
            "1298\n",
            "1294\n",
            "1290\n",
            "1286\n",
            "1282\n",
            "1278\n",
            "1274\n",
            "1270\n",
            "1266\n",
            "1262\n",
            "1258\n",
            "1254\n",
            "1250\n",
            "1246\n",
            "1242\n",
            "1238\n",
            "1234\n",
            "1230\n",
            "1226\n",
            "1222\n",
            "1218\n",
            "1214\n",
            "1210\n",
            "1206\n",
            "1202\n",
            "1198\n",
            "1194\n",
            "1190\n",
            "1186\n",
            "1182\n",
            "1178\n",
            "1174\n",
            "1170\n",
            "1166\n",
            "1162\n",
            "1158\n",
            "1154\n",
            "1150\n",
            "1146\n",
            "1142\n",
            "1138\n",
            "1134\n",
            "1130\n",
            "1126\n",
            "1122\n",
            "1118\n",
            "1114\n",
            "1110\n",
            "1106\n",
            "1102\n",
            "1098\n",
            "1094\n",
            "1090\n",
            "1086\n",
            "1082\n",
            "1078\n",
            "1074\n",
            "1070\n",
            "1066\n",
            "1062\n",
            "1058\n",
            "1054\n",
            "1050\n",
            "1046\n",
            "1042\n",
            "1038\n",
            "1034\n",
            "1030\n",
            "1026\n",
            "1022\n",
            "1018\n",
            "1014\n",
            "1010\n",
            "1006\n",
            "1002\n",
            "998\n",
            "994\n",
            "990\n",
            "986\n",
            "982\n",
            "978\n",
            "974\n",
            "970\n",
            "966\n",
            "962\n",
            "958\n",
            "954\n",
            "950\n",
            "946\n",
            "942\n",
            "938\n",
            "934\n",
            "930\n",
            "926\n",
            "922\n",
            "918\n",
            "914\n",
            "910\n",
            "906\n",
            "902\n",
            "898\n",
            "894\n",
            "890\n",
            "886\n",
            "882\n",
            "878\n",
            "874\n",
            "870\n",
            "866\n",
            "862\n",
            "858\n",
            "854\n",
            "850\n",
            "846\n",
            "842\n",
            "838\n",
            "834\n",
            "830\n",
            "826\n",
            "822\n",
            "818\n",
            "814\n",
            "810\n",
            "806\n",
            "802\n",
            "798\n",
            "794\n",
            "790\n",
            "786\n",
            "782\n",
            "778\n",
            "774\n",
            "770\n",
            "766\n",
            "762\n",
            "758\n",
            "754\n",
            "750\n",
            "746\n",
            "742\n",
            "738\n",
            "734\n",
            "730\n",
            "726\n",
            "722\n",
            "718\n",
            "714\n",
            "710\n",
            "706\n",
            "702\n",
            "698\n",
            "694\n",
            "690\n",
            "686\n",
            "682\n",
            "678\n",
            "674\n",
            "670\n",
            "666\n",
            "662\n",
            "658\n",
            "654\n",
            "650\n",
            "646\n",
            "642\n",
            "638\n",
            "634\n",
            "630\n",
            "626\n",
            "622\n",
            "618\n",
            "614\n",
            "610\n",
            "606\n",
            "602\n",
            "598\n",
            "594\n",
            "590\n",
            "586\n",
            "582\n",
            "578\n",
            "574\n",
            "570\n",
            "566\n",
            "562\n",
            "558\n",
            "554\n",
            "550\n",
            "546\n",
            "542\n",
            "538\n",
            "534\n",
            "530\n",
            "526\n",
            "522\n",
            "518\n",
            "514\n",
            "510\n",
            "506\n",
            "502\n",
            "498\n",
            "494\n",
            "490\n",
            "486\n",
            "482\n",
            "478\n",
            "474\n",
            "470\n",
            "466\n",
            "462\n",
            "458\n",
            "454\n",
            "450\n",
            "446\n",
            "442\n",
            "438\n",
            "434\n",
            "430\n",
            "426\n",
            "422\n",
            "418\n",
            "414\n",
            "410\n",
            "406\n",
            "402\n",
            "398\n",
            "394\n",
            "390\n",
            "386\n",
            "382\n",
            "378\n",
            "374\n",
            "370\n",
            "366\n",
            "362\n",
            "358\n",
            "354\n",
            "350\n",
            "346\n",
            "342\n",
            "338\n",
            "334\n",
            "330\n",
            "326\n",
            "322\n",
            "318\n",
            "314\n",
            "310\n",
            "306\n",
            "302\n",
            "298\n",
            "294\n",
            "290\n",
            "286\n",
            "282\n",
            "278\n",
            "274\n",
            "270\n",
            "266\n",
            "262\n",
            "258\n",
            "254\n",
            "250\n",
            "246\n",
            "242\n",
            "238\n",
            "234\n",
            "230\n",
            "226\n",
            "222\n",
            "218\n",
            "214\n",
            "210\n",
            "206\n",
            "202\n",
            "198\n",
            "194\n",
            "190\n",
            "186\n",
            "182\n",
            "178\n",
            "174\n",
            "170\n",
            "166\n",
            "162\n",
            "158\n",
            "154\n",
            "150\n",
            "146\n",
            "142\n",
            "138\n",
            "134\n",
            "130\n",
            "126\n",
            "122\n",
            "118\n",
            "114\n",
            "110\n",
            "106\n",
            "102\n",
            "98\n",
            "94\n",
            "90\n",
            "86\n",
            "82\n",
            "78\n",
            "74\n",
            "70\n",
            "66\n",
            "62\n",
            "58\n",
            "54\n",
            "50\n",
            "46\n",
            "42\n",
            "38\n",
            "34\n",
            "30\n",
            "26\n",
            "22\n",
            "18\n",
            "14\n",
            "10\n",
            "6\n",
            "2\n"
          ],
          "name": "stdout"
        }
      ]
    },
    {
      "cell_type": "code",
      "metadata": {
        "colab": {
          "base_uri": "https://localhost:8080/"
        },
        "id": "5uHCwYhVcvLO",
        "outputId": "61d1d2d7-f19f-4d0c-ed0f-87f53b106986"
      },
      "source": [
        "#Flexible Counter (optional) - Set three variables: lowNum, highNum, mult. Starting at lowNum and going through highNum, print only the integers that are a multiple of mult. For example, if lowNum=2, highNum=9, and mult=3, the loop should print 3, 6, 9 (on successive lines)\r\n",
        "lowNum=2\r\n",
        "highNum=9\r\n",
        "mult=3\r\n",
        "num=1\r\n",
        "for i in range(lowNum,highNum):\r\n",
        "        print(num*mult)\r\n",
        "        num=1+num"
      ],
      "execution_count": null,
      "outputs": [
        {
          "output_type": "stream",
          "text": [
            "3\n",
            "6\n",
            "9\n",
            "12\n",
            "15\n",
            "18\n",
            "21\n"
          ],
          "name": "stdout"
        }
      ]
    },
    {
      "cell_type": "code",
      "metadata": {
        "id": "bs3p92ddcvPS"
      },
      "source": [
        "#*Assignment:basic for functions*"
      ],
      "execution_count": null,
      "outputs": []
    },
    {
      "cell_type": "code",
      "metadata": {
        "colab": {
          "base_uri": "https://localhost:8080/"
        },
        "id": "0-gXCa3acvSP",
        "outputId": "604b8396-f6ea-4601-a055-381fb378ab4e"
      },
      "source": [
        "\r\n",
        "#1. I predict the output is 5\r\n",
        "def a():\r\n",
        "    return 5\r\n",
        "print(a())"
      ],
      "execution_count": null,
      "outputs": [
        {
          "output_type": "stream",
          "text": [
            "5\n"
          ],
          "name": "stdout"
        }
      ]
    },
    {
      "cell_type": "markdown",
      "metadata": {
        "id": "ifSLi7fydYvX"
      },
      "source": [
        ""
      ]
    },
    {
      "cell_type": "code",
      "metadata": {
        "id": "ocv-izrGcvV2",
        "colab": {
          "base_uri": "https://localhost:8080/"
        },
        "outputId": "6cfb4dc5-7cb6-466a-93ff-ded73371e237"
      },
      "source": [
        "#2 Print and Return - Create a function that will receive a list with two numbers. Print the first value and return the second.\r\n",
        "#Example: print_and_return([1,2]) should print 1 and return 2\r\n",
        "def print_and_return(list):\r\n",
        "    print(list[0])\r\n",
        "    return list[1]\r\n",
        "\r\n",
        "print(print_and_return([1,2]))"
      ],
      "execution_count": 1,
      "outputs": [
        {
          "output_type": "stream",
          "text": [
            "1\n",
            "2\n"
          ],
          "name": "stdout"
        }
      ]
    },
    {
      "cell_type": "code",
      "metadata": {
        "id": "AfWwHvJ2cvaJ",
        "colab": {
          "base_uri": "https://localhost:8080/"
        },
        "outputId": "bf4fc126-f0f9-4c1b-b67c-6dd3d897e42e"
      },
      "source": [
        "#3 First Plus Length - Create a function that accepts a list and returns the sum of the first value in the list plus the list's length.\r\n",
        "#Example: first_plus_length([1,2,3,4,5]) should return 6 (first value: 1 + length: 5)\r\n",
        "def first_plus_length(list):\r\n",
        "    return list[0]+len(list)\r\n",
        "\r\n",
        "print(first_plus_length([1,2,3,4,5]))"
      ],
      "execution_count": 2,
      "outputs": [
        {
          "output_type": "stream",
          "text": [
            "6\n"
          ],
          "name": "stdout"
        }
      ]
    },
    {
      "cell_type": "code",
      "metadata": {
        "id": "HAlM4c8Ecvht",
        "colab": {
          "base_uri": "https://localhost:8080/"
        },
        "outputId": "f6906f60-16f0-4e5a-ed52-b5d50b587372"
      },
      "source": [
        "# 4\r\n",
        "#This Length, That Value- Write a function that accepts two integers as parameters: size and value. The function should create and return a list whose length is equal to the given size, and whose values are all the given value.\r\n",
        "# Example: length_and_value(4,7) should return [7,7,7,7]\r\n",
        "# Example: length_and_value(6,2) should return [2,2,2,2,2,2]\r\n",
        "def length_and_value(a,b):\r\n",
        "    new_list=[]\r\n",
        "    for i in range(0,a):\r\n",
        "        new_list.append(b)\r\n",
        "    return new_list\r\n",
        "\r\n",
        "print(length_and_value(4,7))"
      ],
      "execution_count": 3,
      "outputs": [
        {
          "output_type": "stream",
          "text": [
            "[7, 7, 7, 7]\n"
          ],
          "name": "stdout"
        }
      ]
    },
    {
      "cell_type": "markdown",
      "metadata": {
        "id": "zYNrM-f4JewL"
      },
      "source": [
        "**Assignment: Basic For Loops II**\r\n"
      ]
    },
    {
      "cell_type": "code",
      "metadata": {
        "id": "cb9W8esUcxQv",
        "colab": {
          "base_uri": "https://localhost:8080/"
        },
        "outputId": "61f6c97e-61de-4a66-956a-b086c9e4e640"
      },
      "source": [
        "#1 Biggie Size - Given a list, write a function that changes all positive numbers in the list to \"big\".\r\n",
        "#Example: biggie_size([-1, 3, 5, -5]) returns that same list, but whose values are now [-1, \"big\", \"big\", -5]\r\n",
        "def biggie_size(input):\r\n",
        "    for i in range(0,len(input),1):\r\n",
        "        if input[i]>= 0:\r\n",
        "            input[i]=\"big\"\r\n",
        "    return input\r\n",
        "\r\n",
        "print(biggie_size([-1, 3, 5, -5]))"
      ],
      "execution_count": 4,
      "outputs": [
        {
          "output_type": "stream",
          "text": [
            "[-1, 'big', 'big', -5]\n"
          ],
          "name": "stdout"
        }
      ]
    },
    {
      "cell_type": "code",
      "metadata": {
        "id": "YhOifvZwcxI_",
        "colab": {
          "base_uri": "https://localhost:8080/"
        },
        "outputId": "dd09a6a5-dde6-4c37-f4f8-d145a9456ed7"
      },
      "source": [
        "#2 Count Positives - Given a list of numbers, create a function to replace the last value with the number of positive values. (Note that zero is not considered to be a positive number).\r\n",
        "#Example: count_positives([-1,1,1,1]) changes the original list to [-1,1,1,3] and returns it\r\n",
        "#Example: count_positives([1,6,-4,-2,-7,-2]) changes the list to [1,6,-4,-2,-7,2] and returns it\r\n",
        "def count_positives(input):\r\n",
        "    count=0\r\n",
        "    for i in range(0,len(input),1):\r\n",
        "        if input[i]> 0 :\r\n",
        "            count=count+1 \r\n",
        "    input[len(input)-1]=count\r\n",
        "    return input\r\n",
        "\r\n",
        "print(count_positives([-1,1,1,1]))\r\n",
        "print(count_positives([1,6,-4,-2,-7,-2]))"
      ],
      "execution_count": 6,
      "outputs": [
        {
          "output_type": "stream",
          "text": [
            "[-1, 1, 1, 3]\n",
            "[1, 6, -4, -2, -7, 2]\n"
          ],
          "name": "stdout"
        }
      ]
    },
    {
      "cell_type": "code",
      "metadata": {
        "id": "g9IiBbIfcvkp",
        "colab": {
          "base_uri": "https://localhost:8080/"
        },
        "outputId": "853e8c66-d071-4fdf-f7b2-7fb145d3a3db"
      },
      "source": [
        "#3 Sum Total - Create a function that takes a list and returns the sum of all the values in the array.\r\n",
        "#Example: sum_total([1,2,3,4]) should return 10\r\n",
        "#Example: sum_total([6,3,-2]) should return 7\r\n",
        "def sum_total(input):\r\n",
        "    sum=0\r\n",
        "    for i in range(0,len(input),1):\r\n",
        "        sum=sum+input[i]\r\n",
        "    return sum\r\n",
        "\r\n",
        "print(sum_total([1,2,3,4]))\r\n",
        "print(sum_total([6,3,-2]))"
      ],
      "execution_count": 7,
      "outputs": [
        {
          "output_type": "stream",
          "text": [
            "10\n",
            "7\n"
          ],
          "name": "stdout"
        }
      ]
    },
    {
      "cell_type": "code",
      "metadata": {
        "id": "SaJrKAgBcwDY",
        "colab": {
          "base_uri": "https://localhost:8080/"
        },
        "outputId": "87bc5fc4-68ca-4675-961e-a4c2cc16a649"
      },
      "source": [
        "#4 Average - Create a function that takes a list and returns the average of all the values.\r\n",
        "#Example: average([1,2,3,4]) should return 2.5\r\n",
        "def average(input):\r\n",
        "    sum=0\r\n",
        "    for i in range(0,len(input),1):\r\n",
        "        sum=sum+input[i]\r\n",
        "    return sum/len(input)\r\n",
        "\r\n",
        "print(average([1,2,3,4]))"
      ],
      "execution_count": 8,
      "outputs": [
        {
          "output_type": "stream",
          "text": [
            "2.5\n"
          ],
          "name": "stdout"
        }
      ]
    },
    {
      "cell_type": "code",
      "metadata": {
        "id": "qxcyuU9XcwbP",
        "colab": {
          "base_uri": "https://localhost:8080/"
        },
        "outputId": "84f58c83-e99b-445a-cbc4-369785611bef"
      },
      "source": [
        "# 5 Length - Create a function that takes a list and returns the length of the list.\r\n",
        "#Example: length([37,2,1,-9]) should return 4\r\n",
        "#Example: length([]) should return 0\r\n",
        "def Length(input):\r\n",
        "    return len(input)\r\n",
        "\r\n",
        "print(Length([]))\r\n",
        "print(Length([37,2,1,-9]))"
      ],
      "execution_count": 9,
      "outputs": [
        {
          "output_type": "stream",
          "text": [
            "0\n",
            "4\n"
          ],
          "name": "stdout"
        }
      ]
    },
    {
      "cell_type": "code",
      "metadata": {
        "id": "bYEzXsolcwgP",
        "colab": {
          "base_uri": "https://localhost:8080/"
        },
        "outputId": "3d12fe5c-428a-4981-fb0e-754fecdce1cc"
      },
      "source": [
        "#6 Minimum - Create a function that takes a list of numbers and returns the minimum value in the list. (Optional) If the list is empty, have the function return False.\r\n",
        "#Example: minimum([37,2,1,-9]) should return -9\r\n",
        "#(Optional) Example: minimum([]) should return False\r\n",
        "def Minimum(input):\r\n",
        "    min=0\r\n",
        "    if(len(input)==0):\r\n",
        "        return False\r\n",
        "\r\n",
        "    for i in range(0,len(input),1):\r\n",
        "        if min>input[i]:\r\n",
        "            min=min+input[i]\r\n",
        "    return min\r\n",
        "\r\n",
        "print(Minimum([37,2,1,-9]))\r\n",
        "print(Minimum([]))"
      ],
      "execution_count": 10,
      "outputs": [
        {
          "output_type": "stream",
          "text": [
            "-9\n",
            "False\n"
          ],
          "name": "stdout"
        }
      ]
    },
    {
      "cell_type": "code",
      "metadata": {
        "id": "kUwzqge6cwnX",
        "colab": {
          "base_uri": "https://localhost:8080/"
        },
        "outputId": "2dc2fe2a-879f-4a78-bfb6-c5cec8904916"
      },
      "source": [
        "# Maximum - Create a function that takes a list and returns the maximum value in the array. (Optional) If the list is empty, have the function return False.\r\n",
        "#Example: maximum([37,2,1,-9]) should return 37\r\n",
        "#(Optional) Example: maximum([]) should return False\r\n",
        "def maximum(input):\r\n",
        "    max=0\r\n",
        "    if(len(input)==0):\r\n",
        "        return False\r\n",
        "    for i in range(0,len(input),1):\r\n",
        "        if max<input[i]:\r\n",
        "            max=max+input[i]\r\n",
        "    return max\r\n",
        "\r\n",
        "print(maximum([37,2,1,-9]))\r\n",
        "print(maximum([]))"
      ],
      "execution_count": 11,
      "outputs": [
        {
          "output_type": "stream",
          "text": [
            "37\n",
            "False\n"
          ],
          "name": "stdout"
        }
      ]
    },
    {
      "cell_type": "markdown",
      "metadata": {
        "id": "Ahj7CDCNLBxA"
      },
      "source": [
        "**Assignment: Intermediate Functions I**"
      ]
    },
    {
      "cell_type": "code",
      "metadata": {
        "id": "baUdFhUpcwpW",
        "colab": {
          "base_uri": "https://localhost:8080/"
        },
        "outputId": "b102abcf-05ef-44d9-9d1a-5108735d1219"
      },
      "source": [
        "import random\r\n",
        "def randInt(min=  0 , max=  100 ):\r\n",
        "    num = random.random()*max +min\r\n",
        "    return num\r\n",
        "    \r\n",
        "print(randInt()) \t\t    # should print a random integer between 0 to 100\r\n",
        "print(randInt(max=50)) \t    # should print a random integer between 0 to 50\r\n",
        "print(randInt(min=50)) \t    # should print a random integer between 50 to 100\r\n",
        "print(randInt(min=50, max=500))    # should print a random integer between 50 and 500"
      ],
      "execution_count": 12,
      "outputs": [
        {
          "output_type": "stream",
          "text": [
            "72.53353708016506\n",
            "39.00849335629528\n",
            "147.32819913485295\n",
            "422.5264751751573\n"
          ],
          "name": "stdout"
        }
      ]
    },
    {
      "cell_type": "markdown",
      "metadata": {
        "id": "AvgAtl7YLXM_"
      },
      "source": [
        "**Assignment: Intermediate Functions II**"
      ]
    },
    {
      "cell_type": "code",
      "metadata": {
        "id": "DVz0om2-cwtV",
        "colab": {
          "base_uri": "https://localhost:8080/"
        },
        "outputId": "3139a60b-5b8a-48ad-cd5e-db55dd171a36"
      },
      "source": [
        "#1 Update Values in Dictionaries and Lists\r\n",
        "x = [ [5,2,3], [10,8,9] ] \r\n",
        "students = [\r\n",
        "     {'first_name':  'Michael', 'last_name' : 'Jordan'},\r\n",
        "     {'first_name' : 'John', 'last_name' : 'Rosales'}\r\n",
        "]\r\n",
        "sports_directory = {\r\n",
        "    'basketball' : ['Kobe', 'Jordan', 'James', 'Curry'],\r\n",
        "    'soccer' : ['Messi', 'Ronaldo', 'Rooney']\r\n",
        "}\r\n",
        "z = [ {'x': 10, 'y': 20} ]\r\n",
        "\r\n",
        "#1Change the value 10 in x to 15. Once you're done, x should now be [ [5,2,3], [15,8,9] ].\r\n",
        "for i in range(0,len(x)):\r\n",
        "    for j in range(0,len(x[i])):\r\n",
        "        if(x[i][j]==10):\r\n",
        "            x[i][j]=15\r\n",
        "\r\n",
        "print(x)\r\n",
        "#2 Change the last_name of the first student from 'Jordan' to 'Bryant'\r\n",
        "for i in range(0,len(students)):\r\n",
        "    for j in students:\r\n",
        "        if(students[i]['last_name']== 'Jordan'):\r\n",
        "            students[i]['last_name']= 'Bryant'\r\n",
        "            print(students)\r\n",
        "#3 In the sports_directory, change 'Messi' to 'Andres'\r\n",
        "for i in sports_directory:\r\n",
        "    if(i == 'soccer' ):\r\n",
        "        for j in range(0,len(sports_directory[i])):\r\n",
        "            if(sports_directory[i][j] == 'Messi' ):\r\n",
        "                sports_directory[i][j]='Andres'\r\n",
        "print(sports_directory)\r\n",
        "    \r\n",
        "#4 Change the value 20 in z to 30\r\n",
        "for i in range(0,len(z)):\r\n",
        "    for j in  z[i]:\r\n",
        "            if( z[i][j] == 20 ):\r\n",
        "                z[i][j]=30\r\n",
        "print(z)"
      ],
      "execution_count": 14,
      "outputs": [
        {
          "output_type": "stream",
          "text": [
            "[[5, 2, 3], [15, 8, 9]]\n",
            "[{'first_name': 'Michael', 'last_name': 'Bryant'}, {'first_name': 'John', 'last_name': 'Rosales'}]\n",
            "{'basketball': ['Kobe', 'Jordan', 'James', 'Curry'], 'soccer': ['Andres', 'Ronaldo', 'Rooney']}\n",
            "[{'x': 10, 'y': 30}]\n"
          ],
          "name": "stdout"
        }
      ]
    },
    {
      "cell_type": "code",
      "metadata": {
        "id": "Rdw1BSPpcwws",
        "colab": {
          "base_uri": "https://localhost:8080/"
        },
        "outputId": "be174291-2ab2-4139-ace2-9048970e2c91"
      },
      "source": [
        "#2 Iterate Through a List of Dictionaries\r\n",
        "students = [\r\n",
        "         {'first_name':  'Michael', 'last_name' : 'Jordan'},\r\n",
        "         {'first_name' : 'John', 'last_name' : 'Rosales'},\r\n",
        "         {'first_name' : 'Mark', 'last_name' : 'Guillen'},\r\n",
        "         {'first_name' : 'KB', 'last_name' : 'Tonel'}\r\n",
        "    ]\r\n",
        "\r\n",
        "def iterateDictionary(List):\r\n",
        "    for index in range(len(List)):\r\n",
        "        # print(index)\r\n",
        "        text=\"\"\r\n",
        "        for key in List[index]:\r\n",
        "            if(key=='first_name'):\r\n",
        "                text=text+key+' - '+List[index][key]+ ', '\r\n",
        "            else:\r\n",
        "                text=text+key+' - '+List[index][key] \r\n",
        "        print(text)\r\n",
        "\r\n",
        "iterateDictionary(students)"
      ],
      "execution_count": 15,
      "outputs": [
        {
          "output_type": "stream",
          "text": [
            "first_name - Michael, last_name - Jordan\n",
            "first_name - John, last_name - Rosales\n",
            "first_name - Mark, last_name - Guillen\n",
            "first_name - KB, last_name - Tonel\n"
          ],
          "name": "stdout"
        }
      ]
    },
    {
      "cell_type": "code",
      "metadata": {
        "id": "Qb2qahFMcw1d",
        "colab": {
          "base_uri": "https://localhost:8080/"
        },
        "outputId": "d565d014-dbce-4823-ca55-6394d78272cc"
      },
      "source": [
        "#3 Get Values From a List of Dictionaries\r\n",
        "def iterateDictionary2(key_name, some_list):\r\n",
        "    for i in some_list:\r\n",
        "        print(i[key_name])\r\n",
        "\r\n",
        "iterateDictionary2( 'first_name', students)\r\n",
        "iterateDictionary2( 'last_name', students)"
      ],
      "execution_count": 16,
      "outputs": [
        {
          "output_type": "stream",
          "text": [
            "Michael\n",
            "John\n",
            "Mark\n",
            "KB\n",
            "Jordan\n",
            "Rosales\n",
            "Guillen\n",
            "Tonel\n"
          ],
          "name": "stdout"
        }
      ]
    },
    {
      "cell_type": "code",
      "metadata": {
        "colab": {
          "base_uri": "https://localhost:8080/"
        },
        "id": "JGd9LPWNLizz",
        "outputId": "f2530be9-cbd8-43ff-ce31-7b85bc59539a"
      },
      "source": [
        "# 4\r\n",
        "dojo = {\r\n",
        "   'locations': ['San Jose', 'Seattle', 'Dallas', 'Chicago', 'Tulsa', 'DC', 'Burbank'],\r\n",
        "   'instructors': ['Michael', 'Amy', 'Eduardo', 'Josh', 'Graham', 'Patrick', 'Minh', 'Devon']\r\n",
        "}\r\n",
        "def printInfo(dojo):\r\n",
        "    for i in dojo:\r\n",
        "        print(len(dojo[i]),i.upper())\r\n",
        "        for j in range(0,len(dojo[i])):\r\n",
        "            print(dojo[i][j])\r\n",
        "             \r\n",
        "printInfo(dojo)"
      ],
      "execution_count": 17,
      "outputs": [
        {
          "output_type": "stream",
          "text": [
            "7 LOCATIONS\n",
            "San Jose\n",
            "Seattle\n",
            "Dallas\n",
            "Chicago\n",
            "Tulsa\n",
            "DC\n",
            "Burbank\n",
            "8 INSTRUCTORS\n",
            "Michael\n",
            "Amy\n",
            "Eduardo\n",
            "Josh\n",
            "Graham\n",
            "Patrick\n",
            "Minh\n",
            "Devon\n"
          ],
          "name": "stdout"
        }
      ]
    },
    {
      "cell_type": "markdown",
      "metadata": {
        "id": "qKKDa24iM0gm"
      },
      "source": [
        "**THE END**"
      ]
    },
    {
      "cell_type": "code",
      "metadata": {
        "id": "lP-oOsKwLigP"
      },
      "source": [
        ""
      ],
      "execution_count": null,
      "outputs": []
    },
    {
      "cell_type": "code",
      "metadata": {
        "id": "5Nq6xR4CLicN"
      },
      "source": [
        ""
      ],
      "execution_count": null,
      "outputs": []
    },
    {
      "cell_type": "code",
      "metadata": {
        "id": "ICKTJH3OLiaC"
      },
      "source": [
        ""
      ],
      "execution_count": null,
      "outputs": []
    },
    {
      "cell_type": "code",
      "metadata": {
        "id": "N1VJIdpKLiR1"
      },
      "source": [
        ""
      ],
      "execution_count": null,
      "outputs": []
    },
    {
      "cell_type": "code",
      "metadata": {
        "id": "CgwED355LiM0"
      },
      "source": [
        ""
      ],
      "execution_count": null,
      "outputs": []
    },
    {
      "cell_type": "code",
      "metadata": {
        "id": "pyVIOiypLiJ9"
      },
      "source": [
        ""
      ],
      "execution_count": null,
      "outputs": []
    },
    {
      "cell_type": "code",
      "metadata": {
        "id": "6nC9S4hfLh54"
      },
      "source": [
        ""
      ],
      "execution_count": null,
      "outputs": []
    },
    {
      "cell_type": "code",
      "metadata": {
        "id": "bjnPDd05bSMq"
      },
      "source": [
        ""
      ],
      "execution_count": null,
      "outputs": []
    }
  ]
}